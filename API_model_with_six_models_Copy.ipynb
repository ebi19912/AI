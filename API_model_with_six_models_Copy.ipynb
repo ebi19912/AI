{
  "cells": [
    {
      "cell_type": "markdown",
      "metadata": {
        "id": "view-in-github",
        "colab_type": "text"
      },
      "source": [
        "<a href=\"https://colab.research.google.com/github/ebi19912/AI/blob/main/API_model_with_six_models_Copy.ipynb\" target=\"_parent\"><img src=\"https://colab.research.google.com/assets/colab-badge.svg\" alt=\"Open In Colab\"/></a>"
      ]
    },
    {
      "cell_type": "code",
      "execution_count": null,
      "metadata": {
        "colab": {
          "base_uri": "https://localhost:8080/"
        },
        "id": "PIC0qELE0stG",
        "outputId": "f2edd215-909e-4b3d-8344-1f383595f0f0"
      },
      "outputs": [
        {
          "output_type": "stream",
          "name": "stdout",
          "text": [
            "Mounted at /content/drive\n"
          ]
        }
      ],
      "source": [
        "from google.colab import drive\n",
        "drive.mount('/content/drive')"
      ]
    },
    {
      "cell_type": "code",
      "execution_count": null,
      "metadata": {
        "id": "ktmvV0jrlkrp"
      },
      "outputs": [],
      "source": [
        "import tensorflow as tf\n",
        "for gpu in tf.config.list_physical_devices(\"GPU\"):\n",
        "    tf.config.experimental.set_memory_growth(gpu, True)"
      ]
    },
    {
      "cell_type": "code",
      "execution_count": null,
      "metadata": {
        "colab": {
          "base_uri": "https://localhost:8080/"
        },
        "id": "1U6D1xiM1vLK",
        "outputId": "1ebb4dc4-a953-4625-ef29-15c6db7bccff"
      },
      "outputs": [
        {
          "output_type": "stream",
          "name": "stdout",
          "text": [
            "Found 7004 images belonging to 2 classes.\n",
            "Found 2009 images belonging to 2 classes.\n",
            "Found 1000 images belonging to 2 classes.\n"
          ]
        }
      ],
      "source": [
        "from keras.preprocessing.image import ImageDataGenerator\n",
        "train_datagen = ImageDataGenerator(rescale=1./255)\n",
        "validation_datagen = ImageDataGenerator(rescale=1./255)\n",
        "train_generator = train_datagen.flow_from_directory('/content/drive/My Drive/COMOFOD1/train',target_size=(224, 224),batch_size=32,class_mode='categorical')\n",
        "validation_generator = validation_datagen.flow_from_directory('/content/drive/My Drive/COMOFOD1/val',target_size=(224, 224),batch_size=32,class_mode='categorical')\n",
        "test_datagen = ImageDataGenerator(rescale=1./255)\n",
        "test_generator = test_datagen.flow_from_directory('/content/drive/My Drive/COMOFOD1/test',target_size=(224, 224),batch_size=32,class_mode='categorical')"
      ]
    },
    {
      "cell_type": "code",
      "execution_count": null,
      "metadata": {
        "colab": {
          "base_uri": "https://localhost:8080/"
        },
        "id": "FREV2hGy1vOX",
        "outputId": "c110c38c-0011-48a6-df9f-cb3d36405eac"
      },
      "outputs": [
        {
          "output_type": "stream",
          "name": "stdout",
          "text": [
            "Found 7004 images belonging to 2 classes.\n",
            "Found 2009 images belonging to 2 classes.\n",
            "Found 1000 images belonging to 2 classes.\n"
          ]
        }
      ],
      "source": [
        "from keras.preprocessing.image import ImageDataGenerator\n",
        "train_datagen1 = ImageDataGenerator(rescale=1./255)\n",
        "validation_datagen1 = ImageDataGenerator(rescale=1./255)\n",
        "train_generator1 = train_datagen1.flow_from_directory('/content/drive/My Drive/COMOFOD1/train',target_size=(299, 299),batch_size=32,class_mode='categorical')\n",
        "validation_generator1 = validation_datagen1.flow_from_directory('/content/drive/My Drive/COMOFOD1/val',target_size=(299, 299),batch_size=32,class_mode='categorical')\n",
        "test_datagen1 = ImageDataGenerator(rescale=1./255)\n",
        "test_generator1 = test_datagen1.flow_from_directory('/content/drive/My Drive/COMOFOD1/test',target_size=(299, 299),batch_size=32,class_mode='categorical')"
      ]
    },
    {
      "cell_type": "code",
      "execution_count": null,
      "metadata": {
        "colab": {
          "base_uri": "https://localhost:8080/"
        },
        "id": "ywMYhCsU1vQz",
        "outputId": "52944594-b24c-4289-8a97-4c790e86bdee"
      },
      "outputs": [
        {
          "output_type": "stream",
          "name": "stdout",
          "text": [
            "(224, 224, 3)\n",
            "(299, 299, 3)\n"
          ]
        }
      ],
      "source": [
        "print(validation_generator.image_shape)\n",
        "print(validation_generator1.image_shape)"
      ]
    },
    {
      "cell_type": "code",
      "execution_count": null,
      "metadata": {
        "id": "adkQ9wlD1vT7"
      },
      "outputs": [],
      "source": [
        "import matplotlib.pyplot as plt\n",
        "from tensorflow.keras.models import Model\n",
        "from tensorflow.keras.layers import GlobalAveragePooling2D,Dense,Flatten,UpSampling2D,Reshape\n",
        "from tensorflow.keras.applications import vgg16,vgg19,ResNet50,InceptionV3,InceptionResNetV2\n",
        "from keras.applications.densenet import DenseNet201,DenseNet121\n",
        "from tensorflow.keras.applications.mobilenet import MobileNet\n",
        "from tensorflow.keras.optimizers import Adam,SGD\n",
        "from tensorflow.keras.applications.mobilenet import MobileNet\n",
        "import scipy\n",
        "import os\n",
        "import cv2\n",
        "from PIL import Image\n",
        "import numpy as np\n",
        "#from keras.applications.resnet50 import ResNet50, preprocess_input"
      ]
    },
    {
      "cell_type": "code",
      "execution_count": null,
      "metadata": {
        "id": "rKYMQZgP1vWz"
      },
      "outputs": [],
      "source": [
        "vgg=vgg16.VGG16(weights='imagenet',include_top=False,input_shape=(224,224,3))\n",
        "vgg.summary()\n",
        "for layer in vgg.layers[:-5]:\n",
        "  print(layer.name)\n",
        "  layer.trainable=False\n",
        "x=vgg.layers[-1].output\n",
        "print(x.shape)"
      ]
    },
    {
      "cell_type": "code",
      "execution_count": null,
      "metadata": {
        "id": "wuai79qsZy6t"
      },
      "outputs": [],
      "source": [
        "#vgg16\n",
        "from tensorflow.keras import layers\n",
        "import tensorflow as tf\n",
        "from tensorflow.keras.callbacks import EarlyStopping\n",
        "from tensorflow.keras.callbacks import ModelCheckpoint\n",
        "from tensorflow.keras import models\n",
        "from tensorflow.keras import optimizers\n",
        "from tensorflow.keras.preprocessing.image import ImageDataGenerator\n",
        "es = EarlyStopping(monitor='val_loss', mode='min', verbose=1, patience=10)\n",
        "mc = ModelCheckpoint('/content/drive/My Drive/best_vgg16.h5', monitor='val_loss', mode='min', verbose=1, save_best_only=True)\n",
        "#output1 = layers.concatenate([z1], axis=3,name='myconcate')\n",
        "output1=GlobalAveragePooling2D()(x)\n",
        "output1=Dense(2,activation=\"softmax\")(output1)\n",
        "\n",
        "modelvgg=Model([vgg.input],output1)\n",
        "modelvgg.compile(loss=['categorical_crossentropy'],optimizer=Adam(learning_rate=1e-5),metrics=[\"acc\"])\n",
        "print(modelvgg.summary())"
      ]
    },
    {
      "cell_type": "code",
      "execution_count": null,
      "metadata": {
        "id": "pKzxVKZ0Zy-F"
      },
      "outputs": [],
      "source": [
        "#vgg16\n",
        "history = modelvgg.fit(\n",
        "train_generator,\n",
        "steps_per_epoch=219,\n",
        "epochs=50,\n",
        "validation_data=validation_generator,validation_steps=63,callbacks=[es, mc])"
      ]
    },
    {
      "cell_type": "code",
      "execution_count": null,
      "metadata": {
        "id": "Rh5WUpo2ZzBy"
      },
      "outputs": [],
      "source": [
        "loss=history.history['loss']\n",
        "val_loss=history.history['val_loss']\n",
        "epochs=range(1,len(loss)+1)\n",
        "plt.plot(epochs,loss,'y',label='Training_loss')\n",
        "plt.plot(epochs,val_loss,'r',label='Validation_loss')\n",
        "plt.title('traing and validation loss')\n",
        "plt.xlabel('epochs')\n",
        "plt.ylabel('loss')\n",
        "plt.legend()\n",
        "plt.show()"
      ]
    },
    {
      "cell_type": "code",
      "execution_count": null,
      "metadata": {
        "id": "hLwuYZEpZzF3"
      },
      "outputs": [],
      "source": [
        "print(loss)\n",
        "print(\"***************************\")\n",
        "print(val_loss)"
      ]
    },
    {
      "cell_type": "code",
      "execution_count": null,
      "metadata": {
        "id": "r4aTTfWGaQCw"
      },
      "outputs": [],
      "source": [
        "acc=history.history['acc']\n",
        "val_acc=history.history['val_acc']\n",
        "epochs=range(1,len(loss)+1)\n",
        "plt.plot(epochs,acc,'y',label='Training_acc')\n",
        "plt.plot(epochs,val_acc,'r',label='Validation_acc')\n",
        "plt.title('traing and validation accuracy')\n",
        "plt.xlabel('epochs')\n",
        "plt.ylabel('accuracy')\n",
        "plt.legend()\n",
        "plt.show()"
      ]
    },
    {
      "cell_type": "code",
      "execution_count": null,
      "metadata": {
        "id": "KfoouS79aQGd"
      },
      "outputs": [],
      "source": [
        "print(acc)\n",
        "print(\"*********************************\")\n",
        "print(val_acc)"
      ]
    },
    {
      "cell_type": "code",
      "execution_count": null,
      "metadata": {
        "id": "27Yh0vDh1vaD"
      },
      "outputs": [],
      "source": [
        "################################\n",
        "import tensorflow as tf\n",
        "dense=DenseNet201(weights='imagenet',include_top=False,input_shape=(224,224,3))\n",
        "dense.summary()\n",
        "#dense._name = \"dense\"\n",
        "for layer in dense.layers[:-5]:\n",
        "  print(layer.name)\n",
        "  layer.trainable=False\n",
        "y=dense.layers[-1].output\n",
        "print(y.shape)"
      ]
    },
    {
      "cell_type": "code",
      "execution_count": null,
      "metadata": {
        "id": "3huPVxU8yJm3"
      },
      "outputs": [],
      "source": [
        "#denseNet201\n",
        "from tensorflow.keras import layers\n",
        "import tensorflow as tf\n",
        "from tensorflow.keras.callbacks import EarlyStopping\n",
        "from tensorflow.keras.callbacks import ModelCheckpoint\n",
        "from tensorflow.keras import models\n",
        "from tensorflow.keras import optimizers\n",
        "from tensorflow.keras.preprocessing.image import ImageDataGenerator\n",
        "es = EarlyStopping(monitor='val_loss', mode='min', verbose=1, patience=10)\n",
        "mc = ModelCheckpoint('/content/drive/My Drive/best_densenet201.h5', monitor='val_loss', mode='min', verbose=1, save_best_only=True)\n",
        "#output1 = layers.concatenate([z1], axis=3,name='myconcate')\n",
        "output1=GlobalAveragePooling2D()(y)\n",
        "output1=Dense(2,activation=\"softmax\")(output1)\n",
        "\n",
        "modeldense=Model([dense.input],output1)\n",
        "modeldense.compile(loss=['categorical_crossentropy'],optimizer=Adam(lr=1e-5),metrics=[\"acc\"])\n",
        "print(modeldense.summary())"
      ]
    },
    {
      "cell_type": "code",
      "execution_count": null,
      "metadata": {
        "id": "SerOUVjZyJru"
      },
      "outputs": [],
      "source": [
        "#densenet201\n",
        "history = modeldense.fit(\n",
        "train_generator,\n",
        "steps_per_epoch=219,\n",
        "epochs=50,\n",
        "validation_data=validation_generator,validation_steps=63,callbacks=[es, mc])"
      ]
    },
    {
      "cell_type": "code",
      "execution_count": null,
      "metadata": {
        "id": "O9DZ_aRyyJuj"
      },
      "outputs": [],
      "source": [
        "loss=history.history['loss']\n",
        "val_loss=history.history['val_loss']\n",
        "epochs=range(1,len(loss)+1)\n",
        "plt.plot(epochs,loss,'y',label='Training_loss')\n",
        "plt.plot(epochs,val_loss,'r',label='Validation_loss')\n",
        "plt.title('traing and validation loss')\n",
        "plt.xlabel('epochs')\n",
        "plt.ylabel('loss')\n",
        "plt.legend()\n",
        "plt.show()"
      ]
    },
    {
      "cell_type": "code",
      "execution_count": null,
      "metadata": {
        "id": "GJ8iYxqgyJxS"
      },
      "outputs": [],
      "source": [
        "print(loss)\n",
        "print(\"***************************\")\n",
        "print(val_loss)"
      ]
    },
    {
      "cell_type": "code",
      "execution_count": null,
      "metadata": {
        "id": "d_Eh5YQJyJ0L"
      },
      "outputs": [],
      "source": [
        "acc=history.history['acc']\n",
        "val_acc=history.history['val_acc']\n",
        "epochs=range(1,len(loss)+1)\n",
        "plt.plot(epochs,acc,'y',label='Training_acc')\n",
        "plt.plot(epochs,val_acc,'r',label='Validation_acc')\n",
        "plt.title('traing and validation accuracy')\n",
        "plt.xlabel('epochs')\n",
        "plt.ylabel('accuracy')\n",
        "plt.legend()\n",
        "plt.show()"
      ]
    },
    {
      "cell_type": "code",
      "execution_count": null,
      "metadata": {
        "id": "ECBNZFo3yJ2q"
      },
      "outputs": [],
      "source": [
        "print(acc)\n",
        "print(\"*********************************\")\n",
        "print(val_acc)"
      ]
    },
    {
      "cell_type": "code",
      "execution_count": null,
      "metadata": {
        "id": "779N7pZnyJ5P"
      },
      "outputs": [],
      "source": [
        "################################\n",
        "import tensorflow as tf\n",
        "resnet=ResNet50(weights='imagenet',include_top=False,input_shape=(224,224,3))\n",
        "resnet.summary()\n",
        "for layer in resnet.layers[:-5]:\n",
        "  #model._name = \"new_name\"\n",
        "  layer._name = \"res\"+layer.name\n",
        "  print(layer.name)\n",
        "  #layer._name = \"res\"+layer.name\n",
        "  layer.trainable=False\n",
        "z=resnet.layers[-1].output\n",
        "print(z.shape)"
      ]
    },
    {
      "cell_type": "code",
      "execution_count": null,
      "metadata": {
        "id": "irK0w3yJApD-"
      },
      "outputs": [],
      "source": [
        "#resnet50\n",
        "from tensorflow.keras import layers\n",
        "import tensorflow as tf\n",
        "from tensorflow.keras.callbacks import EarlyStopping\n",
        "from tensorflow.keras.callbacks import ModelCheckpoint\n",
        "from tensorflow.keras import models\n",
        "from tensorflow.keras import optimizers\n",
        "from tensorflow.keras.preprocessing.image import ImageDataGenerator\n",
        "es = EarlyStopping(monitor='val_loss', mode='min', verbose=1, patience=10)\n",
        "mc = ModelCheckpoint('/content/drive/My Drive/best_resnet.h5', monitor='val_loss', mode='min', verbose=1, save_best_only=True)\n",
        "#output1 = layers.concatenate([z1], axis=3,name='myconcate')\n",
        "output1=GlobalAveragePooling2D()(z)\n",
        "output1=Dense(2,activation=\"softmax\")(output1)\n",
        "\n",
        "modelresnet=Model([resnet.input],output1)\n",
        "modelresnet.compile(loss=['categorical_crossentropy'],optimizer=Adam(lr=1e-5),metrics=[\"acc\"])\n",
        "print(modelresnet.summary())"
      ]
    },
    {
      "cell_type": "code",
      "execution_count": null,
      "metadata": {
        "id": "cRUROQyLHjvW"
      },
      "outputs": [],
      "source": [
        "#resnet50\n",
        "history = modelresnet.fit(\n",
        "train_generator,\n",
        "steps_per_epoch=219,\n",
        "epochs=50,\n",
        "validation_data=validation_generator,validation_steps=63,callbacks=[es, mc])"
      ]
    },
    {
      "cell_type": "code",
      "execution_count": null,
      "metadata": {
        "id": "hU5N_RiMApJ5"
      },
      "outputs": [],
      "source": [
        "loss=history.history['loss']\n",
        "val_loss=history.history['val_loss']\n",
        "epochs=range(1,len(loss)+1)\n",
        "plt.plot(epochs,loss,'y',label='Training_loss')\n",
        "plt.plot(epochs,val_loss,'r',label='Validation_loss')\n",
        "plt.title('traing and validation loss')\n",
        "plt.xlabel('epochs')\n",
        "plt.ylabel('loss')\n",
        "plt.legend()\n",
        "plt.show()"
      ]
    },
    {
      "cell_type": "code",
      "execution_count": null,
      "metadata": {
        "id": "WXN3hVdAApMp"
      },
      "outputs": [],
      "source": [
        "print(loss)\n",
        "print(\"***************************\")\n",
        "print(val_loss)"
      ]
    },
    {
      "cell_type": "code",
      "execution_count": null,
      "metadata": {
        "id": "7WeNU-E-ApPc"
      },
      "outputs": [],
      "source": [
        "acc=history.history['acc']\n",
        "val_acc=history.history['val_acc']\n",
        "epochs=range(1,len(loss)+1)\n",
        "plt.plot(epochs,acc,'y',label='Training_acc')\n",
        "plt.plot(epochs,val_acc,'r',label='Validation_acc')\n",
        "plt.title('traing and validation accuracy')\n",
        "plt.xlabel('epochs')\n",
        "plt.ylabel('accuracy')\n",
        "plt.legend()\n",
        "plt.show()"
      ]
    },
    {
      "cell_type": "code",
      "execution_count": null,
      "metadata": {
        "id": "sO6g1nC6ApSB"
      },
      "outputs": [],
      "source": [
        "print(acc)\n",
        "print(\"*********************************\")\n",
        "print(val_acc)"
      ]
    },
    {
      "cell_type": "code",
      "execution_count": null,
      "metadata": {
        "id": "_z5yuMd3Jxke"
      },
      "outputs": [],
      "source": [
        "import tensorflow as tf\n",
        "import numpy as np\n",
        "resnetinc=InceptionResNetV2(weights='imagenet',include_top=False,input_shape=(299,299,3))\n",
        "resnetinc.summary()\n",
        "for layer in resnetinc.layers[:-5]:\n",
        "  #print(layer.name)\n",
        "  layer.trainable=False\n",
        "u=resnetinc.layers[-1].output\n",
        "#x=Reshape((16,4,2048))(x)\n",
        "u= tf.image.resize(u, [7,7])\n",
        "\n",
        "print(u.shape)"
      ]
    },
    {
      "cell_type": "code",
      "execution_count": null,
      "metadata": {
        "id": "PuOnonGVJxnW"
      },
      "outputs": [],
      "source": [
        "#InceptionResNetV2\n",
        "from tensorflow.keras import layers\n",
        "import tensorflow as tf\n",
        "from tensorflow.keras.callbacks import EarlyStopping\n",
        "from tensorflow.keras.callbacks import ModelCheckpoint\n",
        "from tensorflow.keras import models\n",
        "from tensorflow.keras import optimizers\n",
        "from tensorflow.keras.preprocessing.image import ImageDataGenerator\n",
        "es = EarlyStopping(monitor='val_loss', mode='min', verbose=1, patience=10)\n",
        "mc = ModelCheckpoint('/content/drive/My Drive/best_resnetinc.h5', monitor='val_loss', mode='min', verbose=1, save_best_only=True)\n",
        "#output1 = layers.concatenate([z1], axis=3,name='myconcate')\n",
        "output1=GlobalAveragePooling2D()(u)\n",
        "output1=Dense(2,activation=\"softmax\")(output1)\n",
        "\n",
        "modelresnetinc=Model([resnetinc.input],output1)\n",
        "modelresnetinc.compile(loss=['categorical_crossentropy'],optimizer=Adam(lr=1e-5),metrics=[\"acc\"])\n",
        "print(modelresnetinc.summary())"
      ]
    },
    {
      "cell_type": "code",
      "execution_count": null,
      "metadata": {
        "id": "fp5NCQvIJxpx"
      },
      "outputs": [],
      "source": [
        "#InceptionResNetV2\n",
        "history = modelresnetinc.fit(\n",
        "train_generator1,\n",
        "steps_per_epoch=219,\n",
        "epochs=50,\n",
        "validation_data=validation_generator1,validation_steps=63,callbacks=[es, mc])"
      ]
    },
    {
      "cell_type": "code",
      "execution_count": null,
      "metadata": {
        "id": "qfyRzy_2Jxum"
      },
      "outputs": [],
      "source": [
        "loss=history.history['loss']\n",
        "val_loss=history.history['val_loss']\n",
        "epochs=range(1,len(loss)+1)\n",
        "plt.plot(epochs,loss,'y',label='Training_loss')\n",
        "plt.plot(epochs,val_loss,'r',label='Validation_loss')\n",
        "plt.title('traing and validation loss')\n",
        "plt.xlabel('epochs')\n",
        "plt.ylabel('loss')\n",
        "plt.legend()\n",
        "plt.show()"
      ]
    },
    {
      "cell_type": "code",
      "execution_count": null,
      "metadata": {
        "id": "4beuLR0OJxxd"
      },
      "outputs": [],
      "source": [
        "print(loss)\n",
        "print(\"***************************\")\n",
        "print(val_loss)"
      ]
    },
    {
      "cell_type": "code",
      "execution_count": null,
      "metadata": {
        "id": "3iugjfDHJxz4"
      },
      "outputs": [],
      "source": [
        "acc=history.history['acc']\n",
        "val_acc=history.history['val_acc']\n",
        "epochs=range(1,len(loss)+1)\n",
        "plt.plot(epochs,acc,'y',label='Training_acc')\n",
        "plt.plot(epochs,val_acc,'r',label='Validation_acc')\n",
        "plt.title('traing and validation accuracy')\n",
        "plt.xlabel('epochs')\n",
        "plt.ylabel('accuracy')\n",
        "plt.legend()\n",
        "plt.show()"
      ]
    },
    {
      "cell_type": "code",
      "execution_count": null,
      "metadata": {
        "id": "Pqx4gPp_Jx26"
      },
      "outputs": [],
      "source": [
        "print(acc)\n",
        "print(\"*********************************\")\n",
        "print(val_acc)"
      ]
    },
    {
      "cell_type": "code",
      "execution_count": null,
      "metadata": {
        "id": "UjxMGTKENdZd"
      },
      "outputs": [],
      "source": [
        "import tensorflow as tf\n",
        "import numpy as np\n",
        "inc=InceptionV3(weights='imagenet',include_top=False,input_shape=(299,299,3))\n",
        "inc.summary()\n",
        "for layer in inc.layers[:-5]:\n",
        "  #print(layer.name)\n",
        "  layer.trainable=False\n",
        "v=inc.layers[-1].output\n",
        "#x=Reshape((16,4,2048))(x)\n",
        "v= tf.image.resize(v, [7,7])\n",
        "\n",
        "print(v.shape)"
      ]
    },
    {
      "cell_type": "code",
      "execution_count": null,
      "metadata": {
        "id": "TawrTkDcNdc0"
      },
      "outputs": [],
      "source": [
        "#InceptionV3\n",
        "from tensorflow.keras import layers\n",
        "import tensorflow as tf\n",
        "from tensorflow.keras.callbacks import EarlyStopping\n",
        "from tensorflow.keras.callbacks import ModelCheckpoint\n",
        "from tensorflow.keras import models\n",
        "from tensorflow.keras import optimizers\n",
        "from tensorflow.keras.preprocessing.image import ImageDataGenerator\n",
        "es = EarlyStopping(monitor='val_loss', mode='min', verbose=1, patience=10)\n",
        "mc = ModelCheckpoint('/content/drive/My Drive/best_inc.h5', monitor='val_loss', mode='min', verbose=1, save_best_only=True)\n",
        "#output1 = layers.concatenate([z1], axis=3,name='myconcate')\n",
        "output1=GlobalAveragePooling2D()(v)\n",
        "output1=Dense(2,activation=\"softmax\")(output1)\n",
        "\n",
        "modelinc=Model([inc.input],output1)\n",
        "modelinc.compile(loss=['categorical_crossentropy'],optimizer=Adam(lr=1e-5),metrics=[\"acc\"])\n",
        "print(modelinc.summary())"
      ]
    },
    {
      "cell_type": "code",
      "execution_count": null,
      "metadata": {
        "id": "73Nz54N6NdgK"
      },
      "outputs": [],
      "source": [
        "#InceptionV3\n",
        "history = modelinc.fit(\n",
        "train_generator1,\n",
        "steps_per_epoch=219,\n",
        "epochs=50,\n",
        "validation_data=validation_generator1,validation_steps=63,callbacks=[es, mc])"
      ]
    },
    {
      "cell_type": "code",
      "execution_count": null,
      "metadata": {
        "id": "loCUeGz2Ndko"
      },
      "outputs": [],
      "source": [
        "loss=history.history['loss']\n",
        "val_loss=history.history['val_loss']\n",
        "epochs=range(1,len(loss)+1)\n",
        "plt.plot(epochs,loss,'y',label='Training_loss')\n",
        "plt.plot(epochs,val_loss,'r',label='Validation_loss')\n",
        "plt.title('traing and validation loss')\n",
        "plt.xlabel('epochs')\n",
        "plt.ylabel('loss')\n",
        "plt.legend()\n",
        "plt.show()"
      ]
    },
    {
      "cell_type": "code",
      "execution_count": null,
      "metadata": {
        "id": "_5Jw7uA6NdnP"
      },
      "outputs": [],
      "source": [
        "print(loss)\n",
        "print(\"***************************\")\n",
        "print(val_loss)"
      ]
    },
    {
      "cell_type": "code",
      "execution_count": null,
      "metadata": {
        "id": "zFJtIeUVNdq1"
      },
      "outputs": [],
      "source": [
        "acc=history.history['acc']\n",
        "val_acc=history.history['val_acc']\n",
        "epochs=range(1,len(loss)+1)\n",
        "plt.plot(epochs,acc,'y',label='Training_acc')\n",
        "plt.plot(epochs,val_acc,'r',label='Validation_acc')\n",
        "plt.title('traing and validation accuracy')\n",
        "plt.xlabel('epochs')\n",
        "plt.ylabel('accuracy')\n",
        "plt.legend()\n",
        "plt.show()"
      ]
    },
    {
      "cell_type": "code",
      "execution_count": null,
      "metadata": {
        "id": "eK2RGY0KNdtJ"
      },
      "outputs": [],
      "source": [
        "print(acc)\n",
        "print(\"*********************************\")\n",
        "print(val_acc)"
      ]
    },
    {
      "cell_type": "code",
      "execution_count": null,
      "metadata": {
        "id": "AqrLMZmd1vgH"
      },
      "outputs": [],
      "source": [
        "import tensorflow as tf\n",
        "mob = tf.keras.applications.MobileNet(\n",
        "    weights=\"imagenet\",  # load weights pretrained on the ImageNet\n",
        "    input_shape=(224, 224, 3),\n",
        "    include_top=False  # do not include the ImageNet classifier at the top\n",
        ")\n",
        "mob.summary()\n",
        "for layer in mob.layers[:-5]:\n",
        "  print(layer.name)\n",
        "  layer.trainable=False\n",
        "t=mob.layers[-1].output\n",
        "print(t.shape)"
      ]
    },
    {
      "cell_type": "code",
      "source": [
        "#mobilenet\n",
        "from tensorflow.keras import layers\n",
        "import tensorflow as tf\n",
        "from tensorflow.keras.callbacks import EarlyStopping\n",
        "from tensorflow.keras.callbacks import ModelCheckpoint\n",
        "from tensorflow.keras import models\n",
        "from tensorflow.keras import optimizers\n",
        "from tensorflow.keras.preprocessing.image import ImageDataGenerator\n",
        "es = EarlyStopping(monitor='val_loss', mode='min', verbose=1, patience=10)\n",
        "mc = ModelCheckpoint('/content/drive/My Drive/best_mobilenet.h5', monitor='val_loss', mode='min', verbose=1, save_best_only=True)\n",
        "#output1 = layers.concatenate([z1], axis=3,name='myconcate')\n",
        "output1=GlobalAveragePooling2D()(t)\n",
        "output1=Dense(2,activation=\"softmax\")(output1)\n",
        "\n",
        "modelmob=Model([mob.input],output1)\n",
        "modelmob.compile(loss=['categorical_crossentropy'],optimizer=Adam(lr=1e-5),metrics=[\"acc\"])\n",
        "print(modelmob.summary())"
      ],
      "metadata": {
        "id": "LvzQJoLZ92O6"
      },
      "execution_count": null,
      "outputs": []
    },
    {
      "cell_type": "code",
      "source": [
        "#mobilenet\n",
        "history = modelmob.fit(\n",
        "train_generator,\n",
        "steps_per_epoch=219,\n",
        "epochs=50,\n",
        "validation_data=validation_generator,validation_steps=63,callbacks=[es, mc])"
      ],
      "metadata": {
        "id": "xVzjH313-b3x"
      },
      "execution_count": null,
      "outputs": []
    },
    {
      "cell_type": "code",
      "source": [
        "loss=history.history['loss']\n",
        "val_loss=history.history['val_loss']\n",
        "epochs=range(1,len(loss)+1)\n",
        "plt.plot(epochs,loss,'y',label='Training_loss')\n",
        "plt.plot(epochs,val_loss,'r',label='Validation_loss')\n",
        "plt.title('traing and validation loss')\n",
        "plt.xlabel('epochs')\n",
        "plt.ylabel('loss')\n",
        "plt.legend()\n",
        "plt.show()"
      ],
      "metadata": {
        "id": "UNlZTV5q-b6R"
      },
      "execution_count": null,
      "outputs": []
    },
    {
      "cell_type": "code",
      "source": [
        "print(loss)\n",
        "print(\"***************************\")\n",
        "print(val_loss)"
      ],
      "metadata": {
        "id": "cyKg07Yy-b9X"
      },
      "execution_count": null,
      "outputs": []
    },
    {
      "cell_type": "code",
      "source": [
        "acc=history.history['acc']\n",
        "val_acc=history.history['val_acc']\n",
        "epochs=range(1,len(loss)+1)\n",
        "plt.plot(epochs,acc,'y',label='Training_acc')\n",
        "plt.plot(epochs,val_acc,'r',label='Validation_acc')\n",
        "plt.title('traing and validation accuracy')\n",
        "plt.xlabel('epochs')\n",
        "plt.ylabel('accuracy')\n",
        "plt.legend()\n",
        "plt.show()"
      ],
      "metadata": {
        "id": "9AtPEqKu-cAl"
      },
      "execution_count": null,
      "outputs": []
    },
    {
      "cell_type": "code",
      "source": [
        "print(acc)\n",
        "print(\"*********************************\")\n",
        "print(val_acc)"
      ],
      "metadata": {
        "id": "5FuVO-Rf-cDK"
      },
      "execution_count": null,
      "outputs": []
    },
    {
      "cell_type": "code",
      "execution_count": null,
      "metadata": {
        "id": "1l-anx4z36lV"
      },
      "outputs": [],
      "source": [
        "###########################################   API with 6 models\n",
        "from tensorflow.keras import layers\n",
        "from tensorflow.keras.callbacks import EarlyStopping\n",
        "from tensorflow.keras.callbacks import ModelCheckpoint\n",
        "from tensorflow.keras import models\n",
        "from tensorflow.keras import optimizers\n",
        "from tensorflow.keras.preprocessing.image import ImageDataGenerator\n",
        "es = EarlyStopping(monitor='val_loss', mode='min', verbose=1, patience=10)\n",
        "mc = ModelCheckpoint('/content/drive/My Drive/best_sixmodel.h5', monitor='val_loss', mode='min', verbose=1, save_best_only=True)\n",
        "output = layers.concatenate([x,y,z,t,u,v], axis=3,name='myconcate')\n",
        "output=GlobalAveragePooling2D()(output)\n",
        "output=Dense(2,activation=\"softmax\")(output)\n",
        "\n",
        "model=Model([vgg.input,dense.input,resnet.input,mob.input,resnetinc.input,inc.input],output)\n",
        "model.compile(loss=['categorical_crossentropy'],optimizer=Adam(learning_rate=1e-5),metrics=[\"acc\"])\n",
        "#print(model.summary())"
      ]
    },
    {
      "cell_type": "code",
      "source": [
        "print(model.summary())"
      ],
      "metadata": {
        "id": "-0gyiLHqfdM_"
      },
      "execution_count": null,
      "outputs": []
    },
    {
      "cell_type": "code",
      "execution_count": null,
      "metadata": {
        "colab": {
          "base_uri": "https://localhost:8080/"
        },
        "id": "Rz4iNdR_36oW",
        "outputId": "784c5459-3619-4e51-cba8-e39d8d218a14"
      },
      "outputs": [
        {
          "output_type": "stream",
          "name": "stdout",
          "text": [
            "<generator object combine_data_generator at 0x7f8d6cd23eb0>\n"
          ]
        }
      ],
      "source": [
        "def combine_data_generator(X1):\n",
        "    while True:\n",
        "        x1i=X1.next()\n",
        "        yield ([x1i[0],x1i[0],x1i[0],x1i[0],x1i[0],x1i[0]],x1i[1])\n",
        "\n",
        "com=combine_data_generator(train_generator)\n",
        "print(com)\n",
        "com1=combine_data_generator(validation_generator)"
      ]
    },
    {
      "cell_type": "code",
      "source": [
        "###########merging 6 model 10-5\n",
        "history = model.fit(\n",
        "com,\n",
        "steps_per_epoch=219,\n",
        "epochs=50,\n",
        "validation_data=com1,validation_steps=63,callbacks=[es, mc])"
      ],
      "metadata": {
        "id": "OsK-EbMP8zfM"
      },
      "execution_count": null,
      "outputs": []
    },
    {
      "cell_type": "code",
      "source": [
        "model.save('/content/drive/My Drive/finalsixmodel.h5')"
      ],
      "metadata": {
        "id": "_x2Gln2HtlrH"
      },
      "execution_count": null,
      "outputs": []
    },
    {
      "cell_type": "code",
      "source": [
        "loss=history.history['loss']\n",
        "val_loss=history.history['val_loss']\n",
        "epochs=range(1,len(loss)+1)\n",
        "plt.plot(epochs,loss,'y',label='Training_loss')\n",
        "plt.plot(epochs,val_loss,'r',label='Validation_loss')\n",
        "plt.title('traing and validation loss')\n",
        "plt.xlabel('epochs')\n",
        "plt.ylabel('loss')\n",
        "plt.legend()\n",
        "plt.show()"
      ],
      "metadata": {
        "id": "xdV0aTHXtlvo"
      },
      "execution_count": null,
      "outputs": []
    },
    {
      "cell_type": "code",
      "source": [
        "print(loss)\n",
        "print(\"***************************\")\n",
        "print(val_loss)"
      ],
      "metadata": {
        "id": "cCAb_JUrtlyI"
      },
      "execution_count": null,
      "outputs": []
    },
    {
      "cell_type": "code",
      "source": [
        "acc=history.history['acc']\n",
        "val_acc=history.history['val_acc']\n",
        "epochs=range(1,len(loss)+1)\n",
        "plt.plot(epochs,acc,'y',label='Training_acc')\n",
        "plt.plot(epochs,val_acc,'r',label='Validation_acc')\n",
        "plt.title('traing and validation accuracy')\n",
        "plt.xlabel('epochs')\n",
        "plt.ylabel('accuracy')\n",
        "plt.legend()\n",
        "plt.show()"
      ],
      "metadata": {
        "id": "Mrmm5IdytwW-"
      },
      "execution_count": null,
      "outputs": []
    },
    {
      "cell_type": "code",
      "source": [
        "print(acc)\n",
        "print(\"*********************************\")\n",
        "print(val_acc)"
      ],
      "metadata": {
        "id": "xLrWDFC5twaB"
      },
      "execution_count": null,
      "outputs": []
    },
    {
      "cell_type": "code",
      "source": [
        "from tensorflow.keras.models import load_model\n",
        "\n",
        "# load model\n",
        "model = load_model('/content/drive/My Drive/finalsixmodel.h5')"
      ],
      "metadata": {
        "id": "CFnyh8vetl-x"
      },
      "execution_count": null,
      "outputs": []
    },
    {
      "cell_type": "code",
      "source": [
        "################################################## testing on one image for pixel forgery detection\n",
        "test1_datagen1 = ImageDataGenerator(rescale=1./255)\n",
        "test1_generator1 = test1_datagen1.flow_from_directory('/content/drive/My Drive/COMOFOD1/test1',target_size=(224, 224),batch_size=32,class_mode='categorical')\n",
        "test1_datagen2 = ImageDataGenerator(rescale=1./255)\n",
        "test1_generator2 = test1_datagen2.flow_from_directory('/content/drive/My Drive/COMOFOD1/test1',target_size=(299, 299),batch_size=32,class_mode='categorical')\n",
        "\n"
      ],
      "metadata": {
        "colab": {
          "base_uri": "https://localhost:8080/"
        },
        "id": "Rw5VA5oAM9tM",
        "outputId": "717c2a0e-cd26-43ce-e348-9390a447f28b"
      },
      "execution_count": null,
      "outputs": [
        {
          "output_type": "stream",
          "name": "stdout",
          "text": [
            "Found 1 images belonging to 2 classes.\n",
            "Found 1 images belonging to 2 classes.\n"
          ]
        }
      ]
    },
    {
      "cell_type": "code",
      "source": [
        "com22=combine_data_generator(test1_generator1)"
      ],
      "metadata": {
        "id": "5cVjjwjAd0Yu"
      },
      "execution_count": null,
      "outputs": []
    },
    {
      "cell_type": "code",
      "source": [
        "pred=model.predict(com22,steps =1)\n",
        "print(pred[0])"
      ],
      "metadata": {
        "colab": {
          "base_uri": "https://localhost:8080/"
        },
        "id": "0l6UKzked0bu",
        "outputId": "8c080505-c41e-4b7a-e457-dd5e33fd1dcc"
      },
      "execution_count": null,
      "outputs": [
        {
          "output_type": "stream",
          "name": "stdout",
          "text": [
            "1/1 [==============================] - 2s 2s/step\n",
            "[0.00343231 0.9965677 ]\n"
          ]
        }
      ]
    }
  ],
  "metadata": {
    "colab": {
      "provenance": [],
      "include_colab_link": true
    },
    "gpuClass": "standard",
    "kernelspec": {
      "display_name": "Python 3",
      "language": "python",
      "name": "python3"
    },
    "language_info": {
      "codemirror_mode": {
        "name": "ipython",
        "version": 3
      },
      "file_extension": ".py",
      "mimetype": "text/x-python",
      "name": "python",
      "nbconvert_exporter": "python",
      "pygments_lexer": "ipython3",
      "version": "3.6.13"
    },
    "accelerator": "GPU"
  },
  "nbformat": 4,
  "nbformat_minor": 0
}
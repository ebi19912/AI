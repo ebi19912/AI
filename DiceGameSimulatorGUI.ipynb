{
  "nbformat": 4,
  "nbformat_minor": 0,
  "metadata": {
    "colab": {
      "provenance": [],
      "authorship_tag": "ABX9TyO7IBYT0elpMi+CjZ6oaPZv",
      "include_colab_link": true
    },
    "kernelspec": {
      "name": "python3",
      "display_name": "Python 3"
    },
    "language_info": {
      "name": "python"
    }
  },
  "cells": [
    {
      "cell_type": "markdown",
      "metadata": {
        "id": "view-in-github",
        "colab_type": "text"
      },
      "source": [
        "<a href=\"https://colab.research.google.com/github/ebi19912/AI/blob/main/DiceGameSimulatorGUI.ipynb\" target=\"_parent\"><img src=\"https://colab.research.google.com/assets/colab-badge.svg\" alt=\"Open In Colab\"/></a>"
      ]
    },
    {
      "cell_type": "code",
      "execution_count": null,
      "metadata": {
        "id": "WY_yl1869d5m"
      },
      "outputs": [],
      "source": [
        "import random\n",
        "import tkinter as tk\n",
        "import matplotlib.pyplot as plt\n",
        "from matplotlib.backends.backend_tkagg import FigureCanvasTkAgg\n",
        "from tkinter import messagebox\n",
        "\n",
        "n = []\n",
        "rolls = []\n",
        "results = []\n"
      ]
    },
    {
      "cell_type": "markdown",
      "source": [
        "This function simulates a dice game where multiple players roll dice until they get a matching set of three dice. The function takes two inputs:\n",
        "\n",
        "num_simulate: The number of simulations to run.\n",
        "num_players: The number of players in the game.\n",
        "The function works by following these steps:\n",
        "\n",
        "It initializes two global variables:\n",
        "n: A list that will store the number of steps it takes each player to match three dice in each simulation.\n",
        "rolls: A list that will store the results of all the dice rolls in a single simulation.\n",
        "It iterates over the number of simulations specified by the num_simulate input. For each simulation:\n",
        "It generates a list of 300 random dice rolls, using the random.randint() function.\n",
        "It calls the get_results() function to determine the results of the game for each player.\n",
        "It calls the calculate_steps_to_match() function to determine the number of steps it took each player to match three dice.\n",
        "It adds the number of steps for each player to the n list.\n",
        "It displays a message box informing the user that the simulation has completed."
      ],
      "metadata": {
        "id": "6W01g0fs-nSS"
      }
    },
    {
      "cell_type": "code",
      "source": [
        "\n",
        "def start_simulation():\n",
        "    global n, rolls, results\n",
        "    n = []\n",
        "    num_simulate = int(num_simulate_entry.get())\n",
        "    num_players = int(num_players_entry.get())\n",
        "    for numsumulate in range(num_simulate):\n",
        "        rolls = [random.randint(1, 6) for _ in range(300)]\n",
        "        results = get_results(num_players, rolls)\n",
        "        steps_to_match = calculate_steps_to_match(results)\n",
        "        n.append(steps_to_match)\n",
        "    messagebox.showinfo(\"Simulation\", \"Simulation completed\")\n"
      ],
      "metadata": {
        "id": "R3KSv3NQ-isY"
      },
      "execution_count": null,
      "outputs": []
    },
    {
      "cell_type": "markdown",
      "source": [
        "This function takes two inputs:\n",
        "\n",
        "num_players: The number of players in the game.\n",
        "rolls: A list of the results of all the dice rolls in a single simulation.\n",
        "The function works by following these steps:\n",
        "\n",
        "It initializes a list called results to store the results of the game for each player.\n",
        "It iterates over the number of players specified by the num_players input. For each player:\n",
        "It appends an empty list to the results list.\n",
        "It generates a random starting position for the player, between 1 and 10 inclusive.\n",
        "It sets the player's current position to the random starting position.\n",
        "While the player's current position is less than the length of the rolls list:\n",
        "It appends the next roll from the rolls list to the player's results.\n",
        "It increments the player's current position by the value of the last roll.\n",
        "It returns the results list."
      ],
      "metadata": {
        "id": "6Z-7dlTj_mJS"
      }
    },
    {
      "cell_type": "code",
      "source": [
        "def get_results(num_players, rolls):\n",
        "    results = []\n",
        "    for i in range(num_players):\n",
        "        results.append([])\n",
        "        results[i].append(random.randint(1, 10))\n",
        "        current_position = results[i][0]\n",
        "        while current_position < len(rolls):\n",
        "            results[i].append(rolls[current_position])\n",
        "            current_position += results[i][-1]\n",
        "    return results"
      ],
      "metadata": {
        "id": "j1C5Ome-_m7o"
      },
      "execution_count": null,
      "outputs": []
    },
    {
      "cell_type": "markdown",
      "source": [
        "This function takes one input:\n",
        "\n",
        "results: A list of the results of the game for each player.\n",
        "The function works by following these steps:\n",
        "\n",
        "It initializes a variable called steps to 0.\n",
        "It iterates while steps is less than the length of the results list. For each iteration:\n",
        "It gets the first result in the results list at the current step.\n",
        "It sets a variable called match to True.\n",
        "It iterates over the results list for each player. For each player:\n",
        "If the current step is greater than or equal to the length of the player's results list, or if the player's result at the current step is not equal to the first result, then the function sets the match variable to False and breaks out of the loop.\n",
        "If the match variable is still True after the loop has finished, then the function breaks out of the loop.\n",
        "The function increments the steps variable.\n",
        "The function returns the steps variable."
      ],
      "metadata": {
        "id": "puZF31yb_3Kv"
      }
    },
    {
      "cell_type": "code",
      "source": [
        "def calculate_steps_to_match(results):\n",
        "    steps = 0\n",
        "    while steps < len(results[0]):\n",
        "        first_result = results[0][steps]\n",
        "        match = True\n",
        "        for player_results in results:\n",
        "            if steps >= len(player_results) or player_results[steps] != first_result:\n",
        "                match = False\n",
        "                break\n",
        "        if match:\n",
        "            break\n",
        "        steps += 1\n",
        "    return steps\n"
      ],
      "metadata": {
        "id": "nIsL1eun_4sr"
      },
      "execution_count": null,
      "outputs": []
    },
    {
      "cell_type": "markdown",
      "source": [
        "\n",
        "show_player_steps(): This function creates a new window and displays the results of the game for each player in a text box.\n",
        "show_matching_steps(): This function creates a new window and displays the number of steps it took each player to match three dice in a text box."
      ],
      "metadata": {
        "id": "FYPbSdltAKB1"
      }
    },
    {
      "cell_type": "code",
      "source": [
        "def show_player_steps():\n",
        "    new_window = tk.Toplevel(window)\n",
        "    text = tk.Text(new_window)\n",
        "    text.insert(tk.END, str(results))\n",
        "    text.pack()\n",
        "\n",
        "def show_matching_steps():\n",
        "    new_window = tk.Toplevel(window)\n",
        "    text = tk.Text(new_window)\n",
        "    text.insert(tk.END, str(n))\n",
        "    text.pack()\n"
      ],
      "metadata": {
        "id": "itw_VvNjAKzg"
      },
      "execution_count": null,
      "outputs": []
    },
    {
      "cell_type": "markdown",
      "source": [
        "The show_histogram() function creates a new window and displays a histogram of the number of steps it took each player to match three dice."
      ],
      "metadata": {
        "id": "lPoYPA4CAkKa"
      }
    },
    {
      "cell_type": "code",
      "source": [
        "def show_histogram():\n",
        "    new_window = tk.Toplevel(window)\n",
        "    fig = plt.Figure(figsize=(12, 8), dpi=100)\n",
        "    plot = fig.add_subplot(111)\n",
        "    counts = np.bincount(n)\n",
        "    x = np.nonzero(counts)[0]\n",
        "    y = counts[x]\n",
        "    plot.set_title('Frequency Distribution of Steps to Match')\n",
        "    plot.set_xlabel('Steps to Match')\n",
        "    plot.set_ylabel('Frequency')\n",
        "    plot.bar(x, y)\n",
        "    chart = FigureCanvasTkAgg(fig, new_window)\n",
        "    chart.get_tk_widget().pack()\n"
      ],
      "metadata": {
        "id": "AZGAg9RpAlZo"
      },
      "execution_count": null,
      "outputs": []
    },
    {
      "cell_type": "code",
      "source": [
        "def show_average():\n",
        "    new_window = tk.Toplevel(window)\n",
        "    average = np.mean(n)\n",
        "    label = tk.Label(new_window, text=f\"Average: {average}\")\n",
        "    label.pack()\n"
      ],
      "metadata": {
        "id": "REBkL67IBJ7l"
      },
      "execution_count": null,
      "outputs": []
    },
    {
      "cell_type": "markdown",
      "source": [
        "The Python code creates a GUI application that allows users to simulate a dice game and view the results. The GUI has five buttons:\n",
        "\n",
        "Start Simulation: This button starts the simulation.\n",
        "Show Player Steps: This button displays a window showing the results of the game for each player.\n",
        "Show Matching Steps: This button displays a window showing the number of steps it took each player to match three dice.\n",
        "Show Frequency Histogram: This button displays a window showing a histogram of the number of steps it took each player to match three dice.\n",
        "Show Average: This button displays a window showing the average number of steps it took each player to match three dice.\n",
        "The GUI also has two entry fields:\n",
        "\n",
        "Number of Simulations: This entry field allows the user to specify the number of simulations to run.\n",
        "Number of Players: This entry field allows the user to specify the number of players in the game.\n"
      ],
      "metadata": {
        "id": "6lenULpVBVH5"
      }
    },
    {
      "cell_type": "code",
      "source": [
        "window = tk.Tk()\n",
        "\n",
        "num_simulate_label = tk.Label(window, text=\"Number of Simulations\")\n",
        "num_simulate_label.pack()\n",
        "num_simulate_entry = tk.Entry(window)\n",
        "num_simulate_entry.pack()\n",
        "\n",
        "num_players_label = tk.Label(window, text=\"Number of Players\")\n",
        "num_players_label.pack()\n",
        "num_players_entry = tk.Entry(window)\n",
        "num_players_entry.pack()\n",
        "\n",
        "start_button = tk.Button(window, text=\"Start Simulation\", command=start_simulation)\n",
        "start_button.pack()\n",
        "\n",
        "show_steps_button = tk.Button(window, text=\"Show Player Steps\", command=show_player_steps)\n",
        "show_steps_button.pack()\n",
        "\n",
        "show_match_button = tk.Button(window, text=\"Show Matching Steps\", command=show_matching_steps)\n",
        "show_match_button.pack()\n",
        "\n",
        "show_hist_button = tk.Button(window, text=\"Show Frequency Histogram\", command=show_histogram)\n",
        "show_hist_button.pack()\n",
        "\n",
        "show_avg_button = tk.Button(window, text=\"Show Average\", command=show_average)\n",
        "show_avg_button.pack()\n",
        "\n",
        "window.mainloop()\n"
      ],
      "metadata": {
        "id": "gxSjuPQLBW3a"
      },
      "execution_count": null,
      "outputs": []
    }
  ]
}